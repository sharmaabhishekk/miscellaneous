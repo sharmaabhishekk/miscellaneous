{
 "cells": [
  {
   "cell_type": "markdown",
   "metadata": {},
   "source": [
    "<strong style=\"color: violet; font-size:50px\">Bundesliga Scraper</strong>"
   ]
  },
  {
   "cell_type": "markdown",
   "metadata": {},
   "source": [
    "<img style=\"float: left;\" src=\"https://upload.wikimedia.org/wikipedia/en/d/df/Bundesliga_logo_%282017%29.svg\">"
   ]
  },
  {
   "cell_type": "code",
   "execution_count": 1,
   "metadata": {
    "tags": []
   },
   "outputs": [],
   "source": [
    "from selenium import webdriver\n",
    "import time\n",
    "from tqdm import tqdm\n",
    "import pandas as pd"
   ]
  },
  {
   "cell_type": "code",
   "execution_count": 2,
   "metadata": {},
   "outputs": [],
   "source": [
    "driver = webdriver.Opera(executable_path=r\"C:\\Users\\sharm\\Downloads\\operadriver_win64\\operadriver.exe\") ##path to your operadriver executable\n",
    "secs = 12\n",
    "web_elements_dict = {\"distance\": 16, \"sprints\":17, \"intensive-runs\":18} ##these are the indices of the divs from the site\n",
    "dfs = []"
   ]
  },
  {
   "cell_type": "code",
   "execution_count": 3,
   "metadata": {},
   "outputs": [
    {
     "name": "stderr",
     "output_type": "stream",
     "text": [
      "Loading distance data...: 100%|███████████| 55/55 [01:40<00:00,  1.83s/it]\n"
     ]
    },
    {
     "name": "stdout",
     "output_type": "stream",
     "text": [
      "Done. Scraping data...\n",
      "Done.\n"
     ]
    },
    {
     "name": "stderr",
     "output_type": "stream",
     "text": [
      "Loading sprints data...: 100%|████████████| 55/55 [01:39<00:00,  1.82s/it]\n"
     ]
    },
    {
     "name": "stdout",
     "output_type": "stream",
     "text": [
      "Done. Scraping data...\n",
      "Done.\n"
     ]
    },
    {
     "name": "stderr",
     "output_type": "stream",
     "text": [
      "Loading intensive-runs data...: 100%|█████| 55/55 [01:40<00:00,  1.83s/it]\n"
     ]
    },
    {
     "name": "stdout",
     "output_type": "stream",
     "text": [
      "Done. Scraping data...\n",
      "Done.\n"
     ]
    }
   ],
   "source": [
    "for key, value in web_elements_dict.items():\n",
    "    url = f\"https://www.bundesliga.com/en/bundesliga/stats/players/{key}\"\n",
    "\n",
    "    load_xpath = f\"/html/body/app-root/wrapper-page/div/div/div/div/div/stats-page/div/div[3]/div/stats-rankings-players/div/div/div[{value}]/button\"\n",
    "    table_div_xpath = f\"/html/body/app-root/wrapper-page/div/div/div/div/div/stats-page/div/div[3]/div/stats-rankings-players/div/div/div[{value}]\"\n",
    "\n",
    "    driver.get(url)\n",
    "    time.sleep(secs)\n",
    "\n",
    "    load_button = driver.find_element_by_xpath(load_xpath)\n",
    "    for _ in tqdm(range(55), desc=f\"Loading {key} data...\"):\n",
    "        time.sleep(1.7)\n",
    "        load_button.click()\n",
    "\n",
    "    print(f\"Done. Scraping {key} data...\")    \n",
    "    data = driver.find_element_by_xpath(table_div_xpath).text\n",
    "    t = data.split(\"\\n\")\n",
    "    player_data_dict = {t[2]: float(t[3])}\n",
    "    for name, value in zip(t[4:-1:2], t[5:-1:2]):\n",
    "        name = ''.join([i for i in name if not i.isdigit()])\n",
    "        player_data_dict[name] = float(value)\n",
    "    df = pd.DataFrame(list(player_data_dict.items()), columns=[\"player_name\", key])\n",
    "    dfs.append(df)\n",
    "    print(\"Done.\")"
   ]
  },
  {
   "cell_type": "code",
   "execution_count": 4,
   "metadata": {},
   "outputs": [
    {
     "data": {
      "text/html": [
       "<div>\n",
       "<style scoped>\n",
       "    .dataframe tbody tr th:only-of-type {\n",
       "        vertical-align: middle;\n",
       "    }\n",
       "\n",
       "    .dataframe tbody tr th {\n",
       "        vertical-align: top;\n",
       "    }\n",
       "\n",
       "    .dataframe thead th {\n",
       "        text-align: right;\n",
       "    }\n",
       "</style>\n",
       "<table border=\"1\" class=\"dataframe\">\n",
       "  <thead>\n",
       "    <tr style=\"text-align: right;\">\n",
       "      <th></th>\n",
       "      <th>player_name</th>\n",
       "      <th>distance</th>\n",
       "      <th>sprints</th>\n",
       "      <th>intensive-runs</th>\n",
       "    </tr>\n",
       "  </thead>\n",
       "  <tbody>\n",
       "    <tr>\n",
       "      <th>0</th>\n",
       "      <td>Ellyes Skhiri</td>\n",
       "      <td>396.2</td>\n",
       "      <td>586.0</td>\n",
       "      <td>2536.0</td>\n",
       "    </tr>\n",
       "    <tr>\n",
       "      <th>1</th>\n",
       "      <td>Maximilian Eggestein</td>\n",
       "      <td>388.1</td>\n",
       "      <td>550.0</td>\n",
       "      <td>2656.0</td>\n",
       "    </tr>\n",
       "    <tr>\n",
       "      <th>2</th>\n",
       "      <td>Theodor Gebre Selassie</td>\n",
       "      <td>374.5</td>\n",
       "      <td>746.0</td>\n",
       "      <td>2516.0</td>\n",
       "    </tr>\n",
       "    <tr>\n",
       "      <th>3</th>\n",
       "      <td>Robin Knoche</td>\n",
       "      <td>370.6</td>\n",
       "      <td>385.0</td>\n",
       "      <td>1736.0</td>\n",
       "    </tr>\n",
       "    <tr>\n",
       "      <th>4</th>\n",
       "      <td>Marvin Friedrich</td>\n",
       "      <td>370.1</td>\n",
       "      <td>449.0</td>\n",
       "      <td>1959.0</td>\n",
       "    </tr>\n",
       "  </tbody>\n",
       "</table>\n",
       "</div>"
      ],
      "text/plain": [
       "              player_name  distance  sprints  intensive-runs\n",
       "0           Ellyes Skhiri     396.2    586.0          2536.0\n",
       "1    Maximilian Eggestein     388.1    550.0          2656.0\n",
       "2  Theodor Gebre Selassie     374.5    746.0          2516.0\n",
       "3            Robin Knoche     370.6    385.0          1736.0\n",
       "4        Marvin Friedrich     370.1    449.0          1959.0"
      ]
     },
     "execution_count": 4,
     "metadata": {},
     "output_type": "execute_result"
    }
   ],
   "source": [
    "df1, df2, df3 = dfs\n",
    "df = df1.merge(df2, on='player_name').merge(df3, on='player_name')\n",
    "df.head()"
   ]
  },
  {
   "cell_type": "code",
   "execution_count": 5,
   "metadata": {},
   "outputs": [],
   "source": [
    "df.to_csv(\"bundesliga_distance-stats.csv\", index=False)"
   ]
  }
 ],
 "metadata": {
  "kernelspec": {
   "display_name": "Python 3",
   "language": "python",
   "name": "python3"
  },
  "language_info": {
   "codemirror_mode": {
    "name": "ipython",
    "version": 3
   },
   "file_extension": ".py",
   "mimetype": "text/x-python",
   "name": "python",
   "nbconvert_exporter": "python",
   "pygments_lexer": "ipython3",
   "version": "3.8.3"
  }
 },
 "nbformat": 4,
 "nbformat_minor": 4
}
